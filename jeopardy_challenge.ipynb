{
 "cells": [
  {
   "cell_type": "markdown",
   "id": "f7ecc893",
   "metadata": {},
   "source": [
    "### Project Goals\n",
    "You will work to write several functions that investigate a dataset of Jeopardy! questions and answers. Filter the dataset for topics that you’re interested in, compute the average difficulty of those questions, and train to become the next Jeopardy champion!"
   ]
  },
  {
   "cell_type": "markdown",
   "id": "d4bcb943",
   "metadata": {},
   "source": [
    "In order to disply the full contents of a column, we’ve added this line of code to the top of your file:\n",
    "\n",
    "    pd.set_option('display.max_colwidth', -1)\n",
    "\n"
   ]
  },
  {
   "cell_type": "code",
   "execution_count": 62,
   "id": "23eb556d",
   "metadata": {
    "scrolled": true
   },
   "outputs": [],
   "source": [
    "import pandas as pd\n",
    "import numpy as np\n",
    "\n",
    "\n",
    "\n",
    "# The suggested line of code contains depreciated. Code should be as shown following:\n",
    "pd.set_option('display.max_colwidth', None)\n",
    "\n",
    "jeopardy_csv = pd.read_csv('jeopardy.csv')\n"
   ]
  },
  {
   "cell_type": "code",
   "execution_count": 63,
   "id": "63e2f524",
   "metadata": {
    "scrolled": true
   },
   "outputs": [
    {
     "name": "stdout",
     "output_type": "stream",
     "text": [
      "Index(['Show Number', 'Air Date', 'Round', 'Category', 'Value', 'Question',\n",
      "       'Answer'],\n",
      "      dtype='object')\n"
     ]
    }
   ],
   "source": [
    "# The column headings contain whitespace. Strip out using lambda method \n",
    "jeopardy_csv = jeopardy_csv.rename(columns = lambda x: x.strip())\n",
    "print(jeopardy_csv.columns)"
   ]
  },
  {
   "cell_type": "markdown",
   "id": "07717e24",
   "metadata": {},
   "source": [
    "Write a function that filters the dataset for questions that contains all of the words in a list of words. For example, when the list [\"King\", \"England\"] was passed to our function, the function returned a DataFrame of 152 rows. Every row had the strings \"King\" and \"England\" somewhere in its \" Question\"."
   ]
  },
  {
   "cell_type": "markdown",
   "id": "8377f539",
   "metadata": {},
   "source": [
    "In this useful?\n",
    "\n",
    "*Comment: Python3 built-in function:*  **filter(function, iterable)**"
   ]
  },
  {
   "cell_type": "code",
   "execution_count": 64,
   "id": "ca26f452",
   "metadata": {
    "scrolled": true
   },
   "outputs": [
    {
     "name": "stdout",
     "output_type": "stream",
     "text": [
      "6502                                 In 1610 this Italian made his biggest discovery: the 4 largest moons of Jupiter\n",
      "6600    Add this letter to Jupiter's moon Io & you get an acronym that's a ground-floor stock offer for regular guys\n",
      "8120                                         The Roman god Jupiter used this weather phenomenon as a weapon, by jove\n",
      "Name: Question, dtype: object\n"
     ]
    }
   ],
   "source": [
    "# Filter function to check if words are in dataset, first with suggested list\n",
    "# Note: add leading space to ' king' in order to eliminate unwanted matches such as 'viking'\n",
    "# Comment for function- we will always be using 'jeopardy_csv' as the data- eliminate the variable?\n",
    "#\n",
    "# words = [' King' ,'England']\n",
    "# data = jeopardy_csv\n",
    "\n",
    "\n",
    "# New filters following\n",
    "words = ['Jupiter']\n",
    "data = jeopardy_csv\n",
    "\n",
    "def filter_data(dataset, wordlist):\n",
    "    filter = lambda x: all(word.lower() in x.lower() for word in wordlist)\n",
    "    return dataset.loc[dataset['Question'].apply(filter)]\n",
    "    \n",
    "\n",
    "filtered_data = filter_data(data, words)\n",
    "print(filtered_data['Question'].head(3))\n",
    "\n",
    "\n",
    "\n",
    "\n"
   ]
  },
  {
   "cell_type": "markdown",
   "id": "4acf1e4b",
   "metadata": {},
   "source": [
    "'Value' column data are strings beginning with dollar sign and include commas for the thousands, both of which need to be stripped. 'Final Jeopardy' values are None so these need to be addressed/ given a number value: Perhaps as the maximum value of '$', thus 2000? \n",
    "\n",
    "Convert and save 'Value' column as floats in new column so that the float values can be analysed."
   ]
  },
  {
   "cell_type": "code",
   "execution_count": 65,
   "id": "0f7bfaaf",
   "metadata": {},
   "outputs": [
    {
     "name": "stdout",
     "output_type": "stream",
     "text": [
      "   Show Number    Air Date      Round                         Category Value  \\\n",
      "0         4680  2004-12-31  Jeopardy!                          HISTORY  $200   \n",
      "1         4680  2004-12-31  Jeopardy!  ESPN's TOP 10 ALL-TIME ATHLETES  $200   \n",
      "2         4680  2004-12-31  Jeopardy!      EVERYBODY TALKS ABOUT IT...  $200   \n",
      "3         4680  2004-12-31  Jeopardy!                 THE COMPANY LINE  $200   \n",
      "4         4680  2004-12-31  Jeopardy!              EPITAPHS & TRIBUTES  $200   \n",
      "\n",
      "   Value_Floats  \\\n",
      "0         200.0   \n",
      "1         200.0   \n",
      "2         200.0   \n",
      "3         200.0   \n",
      "4         200.0   \n",
      "\n",
      "                                                                                                      Question  \\\n",
      "0             For the last 8 years of his life, Galileo was under house arrest for espousing this man's theory   \n",
      "1  No. 2: 1912 Olympian; football star at Carlisle Indian School; 6 MLB seasons with the Reds, Giants & Braves   \n",
      "2                     The city of Yuma in this state has a record average of 4,055 hours of sunshine each year   \n",
      "3                         In 1963, live on \"The Art Linkletter Show\", this company served its billionth burger   \n",
      "4     Signer of the Dec. of Indep., framer of the Constitution of Mass., second President of the United States   \n",
      "\n",
      "       Answer  \n",
      "0  Copernicus  \n",
      "1  Jim Thorpe  \n",
      "2     Arizona  \n",
      "3  McDonald's  \n",
      "4  John Adams  \n"
     ]
    }
   ],
   "source": [
    "# Insert new column after existing 'Value' column, then a) delete '$' which always occurs in [0] position,\n",
    "# b) replace ',' which occurs in values of thousands, c) all applied if lambda's x does not equal 'None', else \n",
    "# 'None' values replaced with value of 2000, and finally d) wrap method with float() in order to conver.\n",
    "\n",
    "jeopardy_csv.insert(5, 'Value_Floats', jeopardy_csv.Value.apply(lambda x: float(x[1:].replace(',','') if x != 'None' else 2000)))\n",
    "\n",
    "# To verify it is working:\n",
    "print(jeopardy_csv.head())\n"
   ]
  },
  {
   "cell_type": "code",
   "execution_count": null,
   "id": "203b4024",
   "metadata": {},
   "outputs": [],
   "source": [
    "# Experiment to check how function runs WITHOUT using dataset.loc[] . . .\n",
    "\n",
    "# words = ['China']\n",
    "# data = jeopardy_csv\n",
    "\n",
    "# def filter_data(dataset, wordlist):\n",
    "#     filter = lambda x: all(word.lower() in x.lower() for word in wordlist)\n",
    "#     return dataset[dataset['Question'].apply(filter)]\n",
    "    \n",
    "\n",
    "# filtered_data = filter_data(data, words)\n",
    "# print(filtered_data['Question'])\n",
    "\n"
   ]
  },
  {
   "cell_type": "code",
   "execution_count": null,
   "id": "6b5f3ac4",
   "metadata": {},
   "outputs": [],
   "source": [
    "# versus using dataset.loc[]. \n",
    "# In this case, no apparent difference\n",
    "\n",
    "# words = ['China']\n",
    "# data = jeopardy_csv\n",
    "\n",
    "# def filter_data(dataset, wordlist):\n",
    "#     filter = lambda x: all(word.lower() in x.lower() for word in wordlist)\n",
    "#     return dataset.loc[dataset['Question'].apply(filter)]\n",
    "    \n",
    "\n",
    "# filtered_data = filter_data(data, words)\n",
    "# print(filtered_data['Question'])\n"
   ]
  },
  {
   "cell_type": "code",
   "execution_count": null,
   "id": "6b2a1cf8",
   "metadata": {},
   "outputs": [],
   "source": [
    "# Check if 'Values_Float' for 'Round' = 'Final Jeopardy' successfully changed to 2000\n",
    "\n",
    "\n",
    "print(jeopardy_csv.loc[116]['Value_Floats'])"
   ]
  },
  {
   "cell_type": "markdown",
   "id": "43f29ab1",
   "metadata": {},
   "source": [
    "\n",
    "Check difficulty based on average value of questions containing certain terms\n"
   ]
  },
  {
   "cell_type": "code",
   "execution_count": null,
   "id": "81b92c8f",
   "metadata": {},
   "outputs": [],
   "source": [
    "print('\\n\\nThe average value of questions containing the term(s) {} is {} points.'\\\n",
    "      .format(words, filtered_data['Value_Floats'].mean()))"
   ]
  },
  {
   "cell_type": "markdown",
   "id": "807e1f3c",
   "metadata": {},
   "source": [
    "Write function that takes count of unique answers to the questions which satisfy the filter term."
   ]
  },
  {
   "cell_type": "code",
   "execution_count": null,
   "id": "2e2ea71b",
   "metadata": {},
   "outputs": [],
   "source": [
    "# Python method .value_counts() return the info we are looking for...\n",
    "\n",
    "def find_top_answers(dataset):\n",
    "    return dataset['Answer'].value_counts()\n",
    "\n",
    "print(find_top_answers(filtered_data))\n",
    "\n",
    "print('''\\n\\nThe most-cited, unique answer to the question containing the term \\\n",
    "{} is \\'{}\\' which appears {} times in this dataset.'''.format(words, find_top_answers(filtered_data).index[0], find_top_answers(filtered_data)[0]))"
   ]
  },
  {
   "cell_type": "markdown",
   "id": "b079f3e3",
   "metadata": {},
   "source": [
    "Explore from here! This is an incredibly rich dataset, and there are so many interesting things to discover. There are a few columns that we haven’t even started looking at yet. Here are some ideas on ways to continue working with this data:\n",
    "\n",
    "Investigate the ways in which questions change over time by filtering by the date. How many questions from the 90s use the word \"Computer\" compared to questions from the 2000s?\n",
    "Is there a connection between the round and the category? Are you more likely to find certain categories, like \"Literature\" in Single Jeopardy or Double Jeopardy?\n",
    "Build a system to quiz yourself. Grab random questions, and use the input function to get a response from the user. Check to see if that response was right or wrong. Note that you can’t do this on the Codecademy platform — to do this, download the data, and write and run the code on your own computer!"
   ]
  },
  {
   "cell_type": "code",
   "execution_count": 123,
   "id": "b5d9338e",
   "metadata": {},
   "outputs": [
    {
     "name": "stdout",
     "output_type": "stream",
     "text": [
      "216930\n",
      "[2000. 2006.]\n",
      "2002.6858203106992\n",
      "\n",
      "Given the term [''], how often does it appear:\n",
      "\n",
      "\tThru year 2000: 78292 times or 36.1%\n",
      "\tFrom 2001 thru 2006: 68858 times or 31.7%\n",
      "\tFrom 2007 thru 2012: 69780 times or 32.2%\n",
      "\n",
      "Given the term ['fax'], how often does it appear:\n",
      "\n",
      "\tThru year 2000: 15 times or 34.1%\n",
      "\tFrom 2001 thru 2006: 12 times or 27.3%\n",
      "\tFrom 2007 thru 2012: 17 times or 38.6%\n",
      "\n",
      "Given the term ['cellphone'], how often does it appear:\n",
      "\n",
      "\tThru year 2000: 0 times or 0.0%\n",
      "\tFrom 2001 thru 2006: 2 times or 66.7%\n",
      "\tFrom 2007 thru 2012: 1 times or 33.3%\n",
      "\n",
      "Given the term ['computer'], how often does it appear:\n",
      "\n",
      "\tThru year 2000: 129 times or 29.9%\n",
      "\tFrom 2001 thru 2006: 139 times or 32.3%\n",
      "\tFrom 2007 thru 2012: 163 times or 37.8%\n",
      "\n",
      "Given the term ['laptop'], how often does it appear:\n",
      "\n",
      "\tThru year 2000: 2 times or 11.8%\n",
      "\tFrom 2001 thru 2006: 5 times or 29.4%\n",
      "\tFrom 2007 thru 2012: 10 times or 58.8%\n",
      "\n",
      "Given the term ['processor'], how often does it appear:\n",
      "\n",
      "\tThru year 2000: 6 times or 27.3%\n",
      "\tFrom 2001 thru 2006: 4 times or 18.2%\n",
      "\tFrom 2007 thru 2012: 12 times or 54.5%\n",
      "\n",
      "Given the term ['aol'], how often does it appear:\n",
      "\n",
      "\tThru year 2000: 7 times or 17.9%\n",
      "\tFrom 2001 thru 2006: 18 times or 46.2%\n",
      "\tFrom 2007 thru 2012: 14 times or 35.9%\n"
     ]
    }
   ],
   "source": [
    "# Check how often various terms appear vs. the date\n",
    "# First, create new column 'Air_Year' then check dates of when the 'dated_term' appears\n",
    "# Ridiculously easy using .shape[]\n",
    "\n",
    "\n",
    "# jeopardy_csv.insert(2, 'Air Year', jeopardy_csv['Air Date'].apply(lambda x: int(x[0:4])))\n",
    "\n",
    "# Now use the np.percentile() function to subdivide the range of years (more or less) evenly.\n",
    "\n",
    "total_shows = jeopardy_csv['Air Year'].count()\n",
    "# first_third = jeopardy_csv['Air Year'].apply(lambda x: np.percentile(x, 50))\n",
    "year_thirds = np.percentile(jeopardy_csv['Air Year'], [33, 67])\n",
    "\n",
    "first_half = jeopardy_csv['Air Year'].mean()\n",
    "print(total_shows)\n",
    "print(year_thirds)\n",
    "print(first_half)\n",
    "\n",
    "def dated_term_ranges(dated_term):\n",
    "    filtered_data = filter_data(jeopardy_csv, dated_term)\n",
    "    dated_term_pre_00 = filtered_data[(filtered_data['Air Year'] <= 2000)].shape[0]\n",
    "    dated_term_pre_06 = filtered_data[(filtered_data['Air Year'] <= 2006)].shape[0] - dated_term_pre_00\n",
    "    dated_term_pre_12 = filtered_data[filtered_data['Air Year'] <= 2012].shape[0] - (dated_term_pre_06 + dated_term_pre_00)\n",
    "    dated_term_total = filtered_data[filtered_data['Air Year'] < 2013].shape[0]\n",
    "    print('\\nGiven the term {}, how often does it appear:'.format(dated_term))\n",
    "    print('\\n\\tThru year 2000: {} times or {}%'.format(dated_term_pre_00, round(dated_term_pre_00/dated_term_total*100,1)))\n",
    "    print('\\tFrom 2001 thru 2006: {} times or {}%'.format(dated_term_pre_06, round(dated_term_pre_06/dated_term_total*100, 1)))\n",
    "    print('\\tFrom 2007 thru 2012: {} times or {}%'.format(dated_term_pre_12, round(dated_term_pre_12/dated_term_total*100, 1)))\n",
    "\n",
    "# Call to 'dated_term_ranges([''])' below should match 'total_shows' above...\n",
    "dated_term_ranges([''])\n",
    "dated_term_ranges(['fax'])\n",
    "dated_term_ranges(['cellphone'])\n",
    "dated_term_ranges(['computer'])\n",
    "dated_term_ranges(['laptop'])\n",
    "dated_term_ranges(['processor'])\n",
    "dated_term_ranges(['aol'])\n",
    "\n"
   ]
  },
  {
   "cell_type": "code",
   "execution_count": null,
   "id": "6bbce61b",
   "metadata": {},
   "outputs": [],
   "source": []
  },
  {
   "cell_type": "code",
   "execution_count": null,
   "id": "12a3ac83",
   "metadata": {},
   "outputs": [],
   "source": []
  }
 ],
 "metadata": {
  "kernelspec": {
   "display_name": "Python 3",
   "language": "python",
   "name": "python3"
  },
  "language_info": {
   "codemirror_mode": {
    "name": "ipython",
    "version": 3
   },
   "file_extension": ".py",
   "mimetype": "text/x-python",
   "name": "python",
   "nbconvert_exporter": "python",
   "pygments_lexer": "ipython3",
   "version": "3.8.8"
  }
 },
 "nbformat": 4,
 "nbformat_minor": 5
}
